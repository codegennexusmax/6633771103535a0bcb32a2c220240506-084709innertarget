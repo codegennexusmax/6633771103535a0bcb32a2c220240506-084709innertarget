{
 "cells": [
  {
   "cell_type": "markdown",
   "id": "b6569469",
   "metadata": {},
   "source": [
    "***GENERATED CODE FOR innertarget PIPELINE.***"
   ]
  },
  {
   "cell_type": "markdown",
   "id": "84a0e714",
   "metadata": {},
   "source": [
    "***DON'T EDIT THIS CODE.***"
   ]
  },
  {
   "cell_type": "markdown",
   "id": "3f83f7b4",
   "metadata": {},
   "source": [
    "***CONNECTOR FUNCTIONS TO READ DATA.***"
   ]
  },
  {
   "cell_type": "code",
   "execution_count": null,
   "id": "80b16d48",
   "metadata": {},
   "outputs": [],
   "source": [
    "import os\n",
    "import datetime\n",
    "import logging\n",
    "import warnings\n",
    "warnings.filterwarnings('ignore')\n",
    "logging.basicConfig(format='%(levelname)s:%(message)s', level=logging.INFO)\n",
    "\n",
    "\n",
    "class HDFSConnector:\n",
    "\n",
    "    def fetch(spark, config):\n",
    "        ################### INPUT HADOOP HOST PORT TO CONNECT WITH ###############################\n",
    "        hdfs_server = str(os.environ['HDFS_SERVER'])\n",
    "        hdfs_port = int(os.environ['HDFS_PORT'])\n",
    "        df = spark.read.options(header='true', inferschema='true').csv(\n",
    "            f\"hdfs://{hdfs_server}:{hdfs_port}{eval(config)['url']}\", header='true')\n",
    "        display(df.limit(2).toPandas())\n",
    "        return df\n",
    "\n",
    "    def put(df, spark, config):\n",
    "        return df.write.format('csv').options(header='true' if eval(config)[\"is_header\"] == \"Use Header Line\" else 'false',\n",
    "                                              delimiter=eval(config)[\"delimiter\"]).save((\"%s %s\") % (datetime.datetime.now().strftime(\"%Y-%m-%d %H.%M.%S\")+\"_\", eval(config)['url']))\n"
   ]
  },
  {
   "cell_type": "markdown",
   "id": "905b447d",
   "metadata": {},
   "source": [
    "***OPERATION FUNCTIONS***"
   ]
  },
  {
   "cell_type": "code",
   "execution_count": null,
   "id": "67f80847",
   "metadata": {},
   "outputs": [],
   "source": [
    "\n",
    "\n",
    "def QueryEditor(spark, joindataobj):\n",
    "    for source in joindataobj[\"sourcesForQuery\"]:\n",
    "        sourcename = source['sourcename']\n",
    "        source['sourcename'] = spark.read.options(header='true', inferschema='true', delimiter=',')\\\n",
    "            .csv('dbfs:' + source['sourcepath'])\n",
    "        source['sourcename'].createOrReplaceTempView(sourcename)\n",
    "    joinedDf = spark.sql(joindataobj['querytext'])\n",
    "    df = removeIfDuplicates(joinedDf)\n",
    "    print(display(df.limit(2).toPandas()))\n",
    "    return df\n",
    "\n",
    "\n",
    "def removeIfDuplicates(joinedDf):\n",
    "    cols_new = []\n",
    "    seen = set()\n",
    "    for c in joinedDf.columns:\n",
    "        cols_new.append('{}_dup'.format(c) if c in seen else c)\n",
    "        seen.add(c)\n",
    "    df = joinedDf.toDF(*cols_new).select(*\n",
    "                                         [c for c in cols_new if not c.endswith('_dup')])\n",
    "    return df\n"
   ]
  },
  {
   "cell_type": "markdown",
   "id": "fe682db4",
   "metadata": {},
   "source": [
    "***CONNECTOR FUNCTIONS TO WRITE DATA.***"
   ]
  },
  {
   "cell_type": "code",
   "execution_count": null,
   "id": "fb8b07c7",
   "metadata": {},
   "outputs": [],
   "source": [
    "import datetime\n",
    "import requests\n",
    "import datetime\n",
    "import logging\n",
    "import warnings\n",
    "warnings.filterwarnings('ignore')\n",
    "logging.basicConfig(format='%(levelname)s:%(message)s', level=logging.INFO)\n",
    "\n",
    "\n",
    "class NumtraConnector:\n",
    "\n",
    "    def put(inStages, inStagesData, stageId, spark, config):\n",
    "        path = eval(config)['server_url']\n",
    "        baseType = eval(config)['baseType']\n",
    "        results_url = eval(config)['results_url']\n",
    "        server = eval(config)['server']\n",
    "        originalfile = eval(config)['orignalKey']\n",
    "        eval(config)['pathOnly']\n",
    "        filename = eval(config)['filename']\n",
    "        eval(config)['ser']\n",
    "        eval(config)['user']\n",
    "        eval(config)['password']\n",
    "        eval(config)['authSource']\n",
    "        eval(config)['user_id']\n",
    "        eval(config)['parent_id']\n",
    "        eval(config)['project_id']\n",
    "        time = str(int(datetime.datetime.now().timestamp()))\n",
    "\n",
    "        inStagesData[inStages[0]]\n",
    "\n",
    "        print(path)\n",
    "        print(baseType)\n",
    "        print(results_url)\n",
    "        print(server)\n",
    "        print(originalfile)\n",
    "        print(filename)\n",
    "\n",
    "        args = {\n",
    "            'url': path,\n",
    "            'baseType': baseType,\n",
    "            'originalfile': originalfile,\n",
    "            'filename': time + filename\n",
    "        }\n",
    "\n",
    "        response = requests.post(results_url, args)\n",
    "        return response\n"
   ]
  },
  {
   "cell_type": "markdown",
   "id": "d0f812a5",
   "metadata": {},
   "source": [
    "***READING DATAFRAME***"
   ]
  },
  {
   "cell_type": "code",
   "execution_count": null,
   "id": "f4e1a4c1",
   "metadata": {},
   "outputs": [],
   "source": [
    "############## CREATE SPARK SESSION ############################ ENTER YOUR SPARK MASTER IP AND PORT TO CONNECT TO SERVER ################\n",
    "from pyspark.sql import SparkSession\n",
    "spark = SparkSession.builder.master('local[1]').getOrCreate()\n",
    "#%run innertargetHooks.ipynb\n",
    "try:\n",
    "\t#sourcePreExecutionHook()\n",
    "\t\theartfailurep4 = HDFSConnector.fetch(spark, \"{'url': '/FileStore/platform/testdata/1714634096121_HeartFailureP4.csv', 'FilePath': '/Khalid/dataFolder/join_test/HeartFailureP4.csv', 'delimiter': ',', 'file_type': 'Delimeted', 'filename': 'HeartFailureP4.csv', 'viewFileName': 'HeartFailureP4.csv', 'is_header': 'Use Header Line', 'server_url': '/nexusMax/NexusMaxPlatform/uploads/platform/'}\")\n",
    "\n",
    "\n",
    "\n",
    "\theartfailurep3 = HDFSConnector.fetch(spark, \"{'url': '/FileStore/platform/testdata/1714634096384_HeartFailureP3.csv', 'FilePath': '/Khalid/dataFolder/join_test/HeartFailureP3.csv', 'delimiter': ',', 'file_type': 'Delimeted', 'filename': 'HeartFailureP3.csv', 'viewFileName': 'HeartFailureP3.csv', 'is_header': 'Use Header Line', 'server_url': '/nexusMax/NexusMaxPlatform/uploads/platform/', 'results_url': 'http://dnm.bfirst.ai:44040/api/read/hdfs'}\")\n",
    "\n",
    "except Exception as ex: \n",
    "\tlogging.error(ex)\n",
    "#spark.stop()\n"
   ]
  },
  {
   "cell_type": "markdown",
   "id": "a9e9ef88",
   "metadata": {},
   "source": [
    "***PERFORMING OPERATIONS***"
   ]
  },
  {
   "cell_type": "code",
   "execution_count": null,
   "id": "386a4fe6",
   "metadata": {},
   "outputs": [],
   "source": [
    "#%run innertargetHooks.ipynb\n",
    "try:\n",
    "\t#operationPreExecutionHook()\n",
    "\n",
    "\tjoin = QueryEditor(spark, {\"querytext\": \"select p3.age, p3.anaemia, p4.platelets,p4.DEATH_EVENT from heartfailurep3 as p3 inner join heartfailurep4 as p4 on p3.age = p4.age\", \"sourcesForQuery\": [{\"sourcename\": \"heartfailurep3\", \"sourceinfo\": {\"source\": \"hdfs\", \"sourceAttributes\": {\"url\": \"/FileStore/platform/testdata/1714634096384_HeartFailureP3.csv\"}}, \"sourceid\": \"6633771c03535a0bcb32a2d4\"}, {\"sourcename\": \"heartfailurep4\", \"sourceinfo\": {\"source\": \"hdfs\", \"sourceAttributes\": {\"url\": \"/FileStore/platform/testdata/1714634096121_HeartFailureP4.csv\"}}, \"sourceid\": \"6633772003535a0bcb32a2d8\"}], \"fieldsForQuery\": [{\"sourcename\": \"heartfailurep3\", \"fieldname\": \"age\"}, {\"sourcename\": \"heartfailurep3\", \"fieldname\": \"anaemia\"}, {\"sourcename\": \"heartfailurep4\", \"fieldname\": \"age\"}, {\"sourcename\": \"heartfailurep4\", \"fieldname\": \"platelets\"}, {\"sourcename\": \"heartfailurep4\", \"fieldname\": \"DEATH_EVENT\"}]})\n",
    "\t#operationPostExecutionHook(join)\n",
    "\n",
    "except Exception as ex: \n",
    "\tlogging.error(ex)\n"
   ]
  },
  {
   "cell_type": "markdown",
   "id": "861d91e3",
   "metadata": {},
   "source": [
    "***WRITING DATAFRAME***"
   ]
  },
  {
   "cell_type": "code",
   "execution_count": null,
   "id": "5afc2c45",
   "metadata": {},
   "outputs": [],
   "source": [
    "#%run innertargetHooks.ipynb\n",
    "try:\n",
    "\t#sinkPreExecutionHook()\n",
    "\n",
    "\tjointestoutput = NumtraConnector.fetch(spark, \"{'samplefile': '/FileStore/platform/sampleData/6633774803535a0bcb32a2f8JoinStage/part-00000-bd8d99e1-b460-4ee5-9d62-8f5a2657c037-c000.csv', 'samplecount': 61, 'originalcount': 61, 'orignalKey': '/FileStore/platform/sampleData/6633774803535a0bcb32a2f8JoinStage/part-00000-bd8d99e1-b460-4ee5-9d62-8f5a2657c037-c000.csv', 'pathOnly': '/Khalid/dataFolder/join_test', 'project_id': '6633387a03535a0bcb329098', 'parent_id': '6633387a03535a0bcb329098', 'original_schema': [{'checked': True, 'inherited': True, 'is_categorical': False, 'bad_values': '', 'nullable': 'true', '_id': '663898d9a75f410b37ce5dbc', 'field': 'age', 'alias': 'age', 'position': '0'}, {'checked': True, 'inherited': True, 'is_categorical': False, 'bad_values': '', 'nullable': 'true', '_id': '663898d9a75f410b37ce5dbd', 'field': 'anaemia', 'alias': 'anaemia', 'position': '1'}, {'checked': True, 'inherited': True, 'is_categorical': False, 'bad_values': '', 'nullable': 'true', '_id': '663898d9a75f410b37ce5dbe', 'field': 'platelets', 'alias': 'platelets', 'position': '2'}, {'checked': True, 'inherited': True, 'is_categorical': False, 'bad_values': '', 'nullable': 'true', '_id': '663898d9a75f410b37ce5dbf', 'field': 'DEATH_EVENT', 'alias': 'DEATH_EVENT', 'position': '3'}], 'actual_schema': [{'checked': True, 'inherited': True, 'is_categorical': False, 'bad_values': '', 'nullable': 'true', '_id': '663898d9a75f410b37ce5db8', 'field': 'age', 'alias': 'age', 'type': 'numeric'}, {'checked': True, 'inherited': True, 'is_categorical': False, 'bad_values': '', 'nullable': 'true', '_id': '663898d9a75f410b37ce5db9', 'field': 'anaemia', 'alias': 'anaemia', 'type': 'numeric'}, {'checked': True, 'inherited': True, 'is_categorical': False, 'bad_values': '', 'nullable': 'true', '_id': '663898d9a75f410b37ce5dba', 'field': 'platelets', 'alias': 'platelets', 'type': 'real'}, {'checked': True, 'inherited': True, 'is_categorical': False, 'bad_values': '', 'nullable': 'true', '_id': '663898d9a75f410b37ce5dbb', 'field': 'DEATH_EVENT', 'alias': 'DEATH_EVENT', 'type': 'numeric'}], 'server': 'https://dnm.bfirst.ai:443', 'server_url': '/nexusMax/NexusMaxPlatform/uploads/platform/', 'delimiter': ',', 'file_type': 'Delimeted', 'filename': 'innerTargetCol.csv', 'token': '', 'domain': '', 'is_header': 'Use Header Line', 'url': '/FileStore/platform/uploadedSourceFiles/part-00000-78a1bec7-a775-483c-a185-5e2b79a9169f-c000.csv', 'results_url': 'http://dnm.bfirst.ai:44040/api/read/hdfs'}\")\n",
    "\n",
    "except Exception as ex: \n",
    "\tlogging.error(ex)\n"
   ]
  }
 ],
 "metadata": {},
 "nbformat": 4,
 "nbformat_minor": 5
}
